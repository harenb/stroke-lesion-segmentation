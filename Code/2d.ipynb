{
 "cells": [
  {
   "cell_type": "code",
   "execution_count": 1,
   "metadata": {},
   "outputs": [],
   "source": [
    "import sagemaker\n",
    "\n",
    "sagemaker_session = sagemaker.Session()\n",
    "\n",
    "bucket = sagemaker_session.default_bucket()\n",
    "prefix = 'sagemaker/522'\n",
    "\n",
    "role = sagemaker.get_execution_role()"
   ]
  },
  {
   "cell_type": "code",
   "execution_count": 2,
   "metadata": {},
   "outputs": [
    {
     "name": "stdout",
     "output_type": "stream",
     "text": [
      "Requirement already satisfied: nilearn in /home/ec2-user/anaconda3/envs/python3/lib/python3.6/site-packages (0.6.2)\n",
      "Requirement already satisfied: sklearn in /home/ec2-user/anaconda3/envs/python3/lib/python3.6/site-packages (from nilearn) (0.0)\n",
      "Requirement already satisfied: scipy>=0.19 in /home/ec2-user/anaconda3/envs/python3/lib/python3.6/site-packages (from nilearn) (1.1.0)\n",
      "Requirement already satisfied: numpy>=1.11 in /home/ec2-user/anaconda3/envs/python3/lib/python3.6/site-packages (from nilearn) (1.14.3)\n",
      "Requirement already satisfied: scikit-learn>=0.19 in /home/ec2-user/anaconda3/envs/python3/lib/python3.6/site-packages (from nilearn) (0.20.3)\n",
      "Requirement already satisfied: joblib>=0.11 in /home/ec2-user/anaconda3/envs/python3/lib/python3.6/site-packages (from nilearn) (0.14.1)\n",
      "Requirement already satisfied: nibabel>=2.0.2 in /home/ec2-user/anaconda3/envs/python3/lib/python3.6/site-packages (from nilearn) (3.1.0)\n",
      "Requirement already satisfied: packaging>=14.3 in /home/ec2-user/anaconda3/envs/python3/lib/python3.6/site-packages (from nibabel>=2.0.2->nilearn) (20.1)\n",
      "Requirement already satisfied: pyparsing>=2.0.2 in /home/ec2-user/anaconda3/envs/python3/lib/python3.6/site-packages (from packaging>=14.3->nibabel>=2.0.2->nilearn) (2.2.0)\n",
      "Requirement already satisfied: six in /home/ec2-user/anaconda3/envs/python3/lib/python3.6/site-packages (from packaging>=14.3->nibabel>=2.0.2->nilearn) (1.11.0)\n",
      "\u001b[33mYou are using pip version 10.0.1, however version 20.1 is available.\n",
      "You should consider upgrading via the 'pip install --upgrade pip' command.\u001b[0m\n",
      "Requirement already satisfied: torch in /home/ec2-user/anaconda3/envs/python3/lib/python3.6/site-packages (1.5.0)\n",
      "Requirement already satisfied: future in /home/ec2-user/anaconda3/envs/python3/lib/python3.6/site-packages (from torch) (0.18.2)\n",
      "Requirement already satisfied: numpy in /home/ec2-user/anaconda3/envs/python3/lib/python3.6/site-packages (from torch) (1.14.3)\n",
      "\u001b[33mYou are using pip version 10.0.1, however version 20.1 is available.\n",
      "You should consider upgrading via the 'pip install --upgrade pip' command.\u001b[0m\n",
      "Requirement already satisfied: torchvision in /home/ec2-user/anaconda3/envs/python3/lib/python3.6/site-packages (0.6.0)\n",
      "Requirement already satisfied: torch==1.5.0 in /home/ec2-user/anaconda3/envs/python3/lib/python3.6/site-packages (from torchvision) (1.5.0)\n",
      "Requirement already satisfied: pillow>=4.1.1 in /home/ec2-user/anaconda3/envs/python3/lib/python3.6/site-packages (from torchvision) (5.1.0)\n",
      "Requirement already satisfied: numpy in /home/ec2-user/anaconda3/envs/python3/lib/python3.6/site-packages (from torchvision) (1.14.3)\n",
      "Requirement already satisfied: future in /home/ec2-user/anaconda3/envs/python3/lib/python3.6/site-packages (from torch==1.5.0->torchvision) (0.18.2)\n",
      "\u001b[33mYou are using pip version 10.0.1, however version 20.1 is available.\n",
      "You should consider upgrading via the 'pip install --upgrade pip' command.\u001b[0m\n",
      "Requirement already satisfied: tqdm in /home/ec2-user/anaconda3/envs/python3/lib/python3.6/site-packages (4.46.0)\n",
      "\u001b[33mYou are using pip version 10.0.1, however version 20.1 is available.\n",
      "You should consider upgrading via the 'pip install --upgrade pip' command.\u001b[0m\n"
     ]
    }
   ],
   "source": [
    "!pip install nilearn\n",
    "!pip install torch\n",
    "!pip install torchvision\n",
    "!pip install tqdm"
   ]
  },
  {
   "cell_type": "code",
   "execution_count": 3,
   "metadata": {},
   "outputs": [],
   "source": [
    "import numpy as np\n",
    "import tqdm\n",
    "import os\n",
    "import nibabel as nib\n",
    "import pandas as pd\n",
    "import nilearn\n",
    "import os\n",
    "import datetime\n",
    "import torch\n",
    "import random\n",
    "from matplotlib import pyplot as plt\n",
    "device = ('cuda:0' if torch.cuda.is_available() else 'cpu')"
   ]
  },
  {
   "cell_type": "code",
   "execution_count": 4,
   "metadata": {},
   "outputs": [],
   "source": [
    "# !unzip native_2.zip\n",
    "# !unzip native_1.zip"
   ]
  },
  {
   "cell_type": "code",
   "execution_count": 5,
   "metadata": {},
   "outputs": [],
   "source": [
    "nib_images = []\n",
    "nib_lesions = []"
   ]
  },
  {
   "cell_type": "code",
   "execution_count": 6,
   "metadata": {},
   "outputs": [],
   "source": [
    "for subdir in os.listdir('native_1'):\n",
    "    if subdir != '.DS_Store':\n",
    "        look = 'native_1' + '/' + subdir\n",
    "        for subsubdir in os.listdir(look):\n",
    "            if subsubdir != '.DS_Store':\n",
    "                sublook = look + '/' + subsubdir\n",
    "                nib_images.append(nib.load(sublook + '/' + subsubdir +'.nii.gz'))\n",
    "                nib_lesions.append(nib.load(sublook + '/' + subsubdir + '_LesionSmooth.nii.gz'))"
   ]
  },
  {
   "cell_type": "code",
   "execution_count": 7,
   "metadata": {},
   "outputs": [],
   "source": [
    "for subdir in os.listdir('native_2'):\n",
    "    if subdir != '.DS_Store':\n",
    "        look = 'native_2' + '/' + subdir\n",
    "        for subsubdir in os.listdir(look):\n",
    "            if subsubdir != '.DS_Store':\n",
    "                sublook = look + '/' + subsubdir\n",
    "                nib_images.append(nib.load(sublook + '/' + subsubdir +'.nii.gz'))\n",
    "                nib_lesions.append(nib.load(sublook + '/' + subsubdir + '_LesionSmooth.nii.gz'))"
   ]
  },
  {
   "cell_type": "code",
   "execution_count": 9,
   "metadata": {},
   "outputs": [],
   "source": [
    "d = [48, 56, 62, 64]"
   ]
  },
  {
   "cell_type": "code",
   "execution_count": 41,
   "metadata": {},
   "outputs": [],
   "source": [
    "def get_features_train(brain, lesion,num):\n",
    "    s0, s1, s2 = brain.shape\n",
    "    ran = 0.009\n",
    "    features = []\n",
    "    flat_feat = []\n",
    "    labels = []\n",
    "    flat_lab = []\n",
    "    for k in range(s2-50):\n",
    "        for i in range(s0 - 100):\n",
    "            for j in range(s1 - 100):\n",
    "                if lesion[i+50, j+50, k+25] != 0 or random.random() < ran:\n",
    "                    selection = brain[i+38:i+63, j+38:j+63, k+25]\n",
    "                    l_selection = lesion[i+50, j+50, k+25]\n",
    "                    features.append(selection)\n",
    "                    labels.append(l_selection)\n",
    "                    if num < 5:\n",
    "                        flat_feat.append(selection.reshape(selection.shape[0]**2))\n",
    "                        flat_lab.append(l_selection)\n",
    "    return features, labels, flat_feat, flat_lab"
   ]
  },
  {
   "cell_type": "code",
   "execution_count": 60,
   "metadata": {},
   "outputs": [],
   "source": [
    "def get_features_rf(brain, lesion):\n",
    "    s0, s1, s2 = brain.shape\n",
    "    ran = 0.04\n",
    "    ran2 = 0.005\n",
    "    # num = (s0 - 50) * (s1 - 50) * s2\n",
    "    flat_feat = []\n",
    "    flat_lab = []\n",
    "    for k in range(s2-50):\n",
    "        for i in range(s0 - 100):\n",
    "            for j in range(s1 - 100):\n",
    "                l = lesion[i+50, j+50, k+25]\n",
    "                if (l==1 and random.random()<ran2) or (l==0 and random.random() < ran):\n",
    "                    selection = brain[i+38:i+63, j+38:j+63, k+25]\n",
    "                    l_selection = lesion[i+50, j+50, k+25]\n",
    "                    flat_feat.append(selection.reshape(selection.shape[0]**2))\n",
    "                    flat_lab.append(l_selection)\n",
    "    return flat_feat, flat_lab"
   ]
  },
  {
   "cell_type": "code",
   "execution_count": 103,
   "metadata": {},
   "outputs": [],
   "source": [
    "def get_features_test(brain, lesion):\n",
    "    s0, s1, s2 = brain.shape\n",
    "    ran = 0.03\n",
    "    ran2 = 0.2\n",
    "    # num = (s0 - 50) * (s1 - 50) * s2\n",
    "    features = []\n",
    "    labels = []\n",
    "    for k in range(s2-50):\n",
    "        for i in range(s0 - 100):\n",
    "            for j in range(s1 - 100):\n",
    "                l = lesion[i+50, j+50, k+25]\n",
    "                if (l==1 and random.random()<ran2) or (l==0 and random.random() < ran):\n",
    "                    selection = brain[i+38:i+63, j+38:j+63, k+25]\n",
    "                    l_selection = lesion[i+50, j+50, k+25]\n",
    "                    features.append(selection)\n",
    "                    labels.append(l_selection)\n",
    "    return features, labels"
   ]
  },
  {
   "cell_type": "code",
   "execution_count": 12,
   "metadata": {},
   "outputs": [],
   "source": [
    "max_size = (256, 256, 185)\n",
    "def padding(brain, lesion):\n",
    "    padded_brain = np.zeros(max_size)\n",
    "    padded_lesion = np.zeros(max_size)\n",
    "    s0, s1, s2 = brain.shape\n",
    "\n",
    "    h = int(np.floor((max_size[0] - s0)/2))\n",
    "    w = int(np.floor((max_size[1] - s1)/2))\n",
    "    f = int(np.floor((max_size[2] - s2)/2))\n",
    "\n",
    "    padded_brain[h:h+s0, w:w+s1, f:f+s2] = brain\n",
    "    padded_lesion[h:h+s0, w:w+s1, f:f+s2] = lesion\n",
    "\n",
    "    return padded_brain, padded_lesion"
   ]
  },
  {
   "cell_type": "code",
   "execution_count": 42,
   "metadata": {},
   "outputs": [
    {
     "name": "stderr",
     "output_type": "stream",
     "text": [
      "100%|██████████| 25/25 [02:38<00:00,  6.36s/it]\n"
     ]
    }
   ],
   "source": [
    "# Store Slices Here\n",
    "brain_data = []\n",
    "X_train = []\n",
    "lesion_data = []\n",
    "y_train = []\n",
    "for i in tqdm.tqdm(range(25)):\n",
    "    if i not in d: # where brain sizes and lesion sizes are different\n",
    "        img, lesion = nib_images[i], nib_lesions[i]\n",
    "        # normalize\n",
    "        brain = img.get_fdata()/255\n",
    "        lesion = lesion.get_fdata()/255\n",
    "        #reshape for consistency\n",
    "        if i < 31:\n",
    "          brain = np.rot90(brain,1,axes=(0,2)).copy()\n",
    "          lesion = np.rot90(lesion,1,axes=(0,2)).copy()\n",
    "        elif i > 85:\n",
    "          brain = np.swapaxes(brain,1,2).copy()\n",
    "          brain = np.rot90(brain,1,axes=(0,2)).copy()\n",
    "          lesion = np.swapaxes(lesion,1,2).copy()\n",
    "          lesion = np.rot90(lesion,1,axes=(0,2)).copy()\n",
    "        brain = exposure.equalize_hist(brain)\n",
    "        #slice\n",
    "        if brain.shape[0:2] < (50, 50):\n",
    "            continue\n",
    "        features, labels, flattened_X, flattened_y = get_features_train(brain, lesion,i)\n",
    "        \n",
    "#         print(features[0].shape)\n",
    "        brain_data.extend(features)\n",
    "        lesion_data.extend(labels)\n",
    "        X_train.extend(flattened_X)\n",
    "        y_train.extend(flattened_y)"
   ]
  },
  {
   "cell_type": "code",
   "execution_count": 104,
   "metadata": {},
   "outputs": [
    {
     "name": "stderr",
     "output_type": "stream",
     "text": [
      "100%|██████████| 10/10 [00:27<00:00,  2.76s/it]\n"
     ]
    }
   ],
   "source": [
    "# Store Slices Here\n",
    "brain_data_valid = []\n",
    "lesion_data_valid = []\n",
    "X_valid = []\n",
    "y_valid = []\n",
    "for i in tqdm.tqdm(range(50,60)):\n",
    "    if i not in d: # where brain sizes and lesion sizes are different\n",
    "#         if i%10 == 0:\n",
    "#           print(i)\n",
    "        img, lesion = nib_images[i], nib_lesions[i]\n",
    "        # normalize\n",
    "        brain = img.get_fdata()/255\n",
    "        lesion = lesion.get_fdata()/255\n",
    "        #reshape for consistency\n",
    "        if i < 31:\n",
    "          brain = np.rot90(brain,1,axes=(0,2)).copy()\n",
    "          lesion = np.rot90(lesion,1,axes=(0,2)).copy()\n",
    "        elif i > 85:\n",
    "          brain = np.swapaxes(brain,1,2).copy()\n",
    "          brain = np.rot90(brain,1,axes=(0,2)).copy()\n",
    "          lesion = np.swapaxes(lesion,1,2).copy()\n",
    "          lesion = np.rot90(lesion,1,axes=(0,2)).copy()\n",
    "        #slice\n",
    "        if brain.shape[0:2] < (50, 50):\n",
    "            continue\n",
    "        features, labels= get_features_test(brain, lesion)\n",
    "        flattened_X, flattened_y = get_features_rf(brain, lesion)\n",
    "        brain_data_valid.extend(features)\n",
    "        lesion_data_valid.extend(labels)\n",
    "        X_valid.extend(flattened_X)\n",
    "        y_valid.extend(flattened_y)"
   ]
  },
  {
   "cell_type": "code",
   "execution_count": 11,
   "metadata": {},
   "outputs": [
    {
     "name": "stderr",
     "output_type": "stream",
     "text": [
      "100%|██████████| 10/10 [00:25<00:00,  2.50s/it]\n"
     ]
    }
   ],
   "source": [
    "# Store Slices Here\n",
    "brain_data_test= []\n",
    "lesion_data_test = []\n",
    "X_test = []\n",
    "y_test = []\n",
    "for i in tqdm.tqdm(range(50,60)):\n",
    "    if i not in d: # where brain sizes and lesion sizes are different\n",
    "        img, lesion = nib_images[i], nib_lesions[i]\n",
    "        # normalize\n",
    "        brain = img.get_fdata()/255\n",
    "        lesion = lesion.get_fdata()/255\n",
    "        #reshape for consistency\n",
    "        if i < 31:\n",
    "          brain = np.rot90(brain,1,axes=(0,2)).copy()\n",
    "          lesion = np.rot90(lesion,1,axes=(0,2)).copy()\n",
    "        elif i > 85:\n",
    "          brain = np.swapaxes(brain,1,2).copy()\n",
    "          brain = np.rot90(brain,1,axes=(0,2)).copy()\n",
    "          lesion = np.swapaxes(lesion,1,2).copy()\n",
    "          lesion = np.rot90(lesion,1,axes=(0,2)).copy()\n",
    "        #slice\n",
    "        if brain.shape[0:2] < (50, 50):\n",
    "            continue\n",
    "        features, labels= get_features_test(brain, lesion)\n",
    "        flattened_X, flattened_y = get_features_rf(brain, lesion)\n",
    "        brain_data_test.extend(features)\n",
    "        lesion_data_test.extend(labels)\n",
    "        X_test.extend(flattened_X)\n",
    "        y_test.extend(flattened_y)"
   ]
  },
  {
   "cell_type": "code",
   "execution_count": 18,
   "metadata": {},
   "outputs": [],
   "source": [
    "import torch.nn as nn\n",
    "from torch import optim\n",
    "from torch.utils.data import Dataset, DataLoader\n",
    "from torchvision import transforms, utils, models"
   ]
  },
  {
   "cell_type": "code",
   "execution_count": 19,
   "metadata": {},
   "outputs": [],
   "source": [
    "class BrainsDataset(Dataset):\n",
    "    def __init__(self, brains, lesions, transform=None):\n",
    "        self.brains = brains\n",
    "        self.lesions = lesions\n",
    "        self.transform = transform\n",
    "\n",
    "    def __len__(self):\n",
    "        return len(self.brains)\n",
    "\n",
    "    def __getitem__(self, idx):\n",
    "        sample = {'brain': self.brains[idx], 'lesion': self.lesions[idx]}\n",
    "        if self.transform:\n",
    "            sample['brain'] = self.transform(sample['brain'])\n",
    "        return sample"
   ]
  },
  {
   "cell_type": "code",
   "execution_count": 107,
   "metadata": {},
   "outputs": [],
   "source": [
    "input_transforms = transforms.Compose([transforms.ToTensor(),\n",
    "            transforms.Normalize(mean=0.56,std=0.41)])\n",
    "brains_dataset = BrainsDataset(brain_data, lesion_data, transform=input_transforms)\n",
    "brains_valid = BrainsDataset(brain_data_valid, lesion_data_valid, transform=input_transforms)\n",
    "brains_test = BrainsDataset(brain_data_test, lesion_data_test, transform=input_transforms)\n",
    "dataloader = DataLoader(brains_dataset, batch_size=64, shuffle=True)\n",
    "val_dataloader = DataLoader(brains_valid, batch_size = 256, shuffle=False)\n",
    "test_dataloader = DataLoader(brains_test, batch_size = 256, shuffle=False)"
   ]
  },
  {
   "cell_type": "code",
   "execution_count": 22,
   "metadata": {},
   "outputs": [],
   "source": [
    "from sklearn.ensemble import RandomForestClassifier"
   ]
  },
  {
   "cell_type": "code",
   "execution_count": 63,
   "metadata": {},
   "outputs": [],
   "source": [
    "rf = RandomForestClassifier(n_jobs=-1,n_estimators=50, max_depth=6).fit(X_train,y_train)\n",
    "y_pred = rf.predict(X_test)"
   ]
  },
  {
   "cell_type": "code",
   "execution_count": 64,
   "metadata": {},
   "outputs": [
    {
     "name": "stdout",
     "output_type": "stream",
     "text": [
      "352.0\n"
     ]
    },
    {
     "data": {
      "text/plain": [
       "0.015063334474495036"
      ]
     },
     "execution_count": 64,
     "metadata": {},
     "output_type": "execute_result"
    }
   ],
   "source": [
    "dice(y_pred, y_test)"
   ]
  },
  {
   "cell_type": "code",
   "execution_count": 115,
   "metadata": {},
   "outputs": [],
   "source": [
    "resnet18 = models.resnet18(pretrained=True)"
   ]
  },
  {
   "cell_type": "code",
   "execution_count": 116,
   "metadata": {},
   "outputs": [],
   "source": [
    "def set_parameter_requires_grad(model, feature_extracting):\n",
    "  if feature_extracting:\n",
    "    for name, param in model.named_parameters(): #.children()\n",
    "      if name[:9] == 'layer4.0.' :  param.requires_grad = True\n",
    "      else: param.requires_grad = False\n",
    "\n",
    "set_parameter_requires_grad(resnet18, feature_extracting = True)"
   ]
  },
  {
   "cell_type": "code",
   "execution_count": 117,
   "metadata": {},
   "outputs": [],
   "source": [
    "num_classes = 2 #We are predicting if a cell is either in or out of the lesion, right? \n",
    "\n",
    "last_input = resnet18.fc.in_features\n",
    "resnet18.fc = nn.Linear(last_input, num_classes)\n",
    "#print(resnet18)"
   ]
  },
  {
   "cell_type": "code",
   "execution_count": 118,
   "metadata": {},
   "outputs": [],
   "source": [
    "def dice(true, pred):\n",
    "  true = np.array(true)\n",
    "  pred = np.array(pred)\n",
    "  intersection = np.sum(true*pred)\n",
    "  union = np.sum(true == 1) + np.sum(pred == 1)\n",
    "  print(intersection)\n",
    "  return 2*intersection/union"
   ]
  },
  {
   "cell_type": "code",
   "execution_count": 119,
   "metadata": {},
   "outputs": [],
   "source": [
    "# resnet requires 3 channels\n",
    "conv = nn.Conv2d(1,3,5,1,2).to(device)"
   ]
  },
  {
   "cell_type": "code",
   "execution_count": 121,
   "metadata": {},
   "outputs": [],
   "source": [
    "def train_model(train_dataloader, optimizer, loss, net, test_dataloader):\n",
    "  # TODO: Insert your code here\n",
    "  net = net.to(device)\n",
    "  true = np.array([])\n",
    "  preds = np.array([])\n",
    "  interval_losses = []\n",
    "  for epoch in range(1):\n",
    "    interval_loss = 0\n",
    "    print(datetime.datetime.now())\n",
    "    total_loss = 0\n",
    "    total = 0\n",
    "    correct = 0\n",
    "    epoch_iterator = tqdm.tqdm(train_dataloader)\n",
    "    \n",
    "    for num, data in enumerate(epoch_iterator):\n",
    "      inputs, labels = data['brain'], data['lesion']\n",
    "      inputs, labels = inputs.float().to(device), labels.float().to(device)\n",
    "\n",
    "      optimizer.zero_grad()\n",
    "      inputs = conv(inputs.float())\n",
    "      outputs = net(inputs)\n",
    "      _, pred = torch.max(outputs, 1)\n",
    "      np.append(preds, pred.cpu().numpy())\n",
    "      np.append(true, labels.cpu().numpy())\n",
    "      loss_value = loss(outputs, labels.long())\n",
    "    \n",
    "      if num%200 == 0 and num!=0:\n",
    "        interval_losses.append(interval_loss/200)\n",
    "        interval_loss = 0\n",
    "      loss_value.backward()\n",
    "\n",
    "      interval_loss += loss_value.item()\n",
    "      optimizer.step()\n",
    "        \n",
    "      total_loss += loss_value.item()\n",
    "    \n",
    "      total += len(labels)\n",
    "    print(f\"Epoch: {epoch}, Loss: {total_loss/total}, Dice: {test_model(test_dataloader, net)}\")\n",
    "    print()\n",
    "    \n",
    "  return interval_losses"
   ]
  },
  {
   "cell_type": "code",
   "execution_count": 122,
   "metadata": {},
   "outputs": [],
   "source": [
    "def test_model(test_dataloader, net):\n",
    "  # TODO: Insert your code here\n",
    "  correct = 0\n",
    "  total = 0\n",
    "  output_list = np.array([])\n",
    "  true = np.array([])\n",
    "  with torch.no_grad():\n",
    "    for data in tqdm.tqdm(test_dataloader):\n",
    "      inputs, labels = data['brain'], data['lesion']\n",
    "      inputs, labels = inputs.float().to(device), labels.float().to(device)\n",
    "    \n",
    "      inputs = conv(inputs.float())\n",
    "      outputs = net(inputs)\n",
    "      pred = torch.max(outputs, 1)[1]\n",
    "      output_list = np.append(output_list, pred.cpu().numpy())\n",
    "      true = np.append(true, labels.cpu().numpy())\n",
    "\n",
    "    print(np.count_nonzero(output_list))\n",
    "    print(np.count_nonzero(true))\n",
    "    return dice(np.array(output_list), np.array(true))\n",
    "      "
   ]
  },
  {
   "cell_type": "code",
   "execution_count": 115,
   "metadata": {},
   "outputs": [
    {
     "name": "stderr",
     "output_type": "stream",
     "text": [
      "  0%|          | 0/10740 [00:00<?, ?it/s]"
     ]
    },
    {
     "name": "stdout",
     "output_type": "stream",
     "text": [
      "2020-05-07 05:52:23.770805\n"
     ]
    },
    {
     "name": "stderr",
     "output_type": "stream",
     "text": [
      "100%|██████████| 10740/10740 [09:11<00:00, 19.49it/s] \n",
      "  0%|          | 0/1874 [00:00<?, ?it/s]"
     ]
    },
    {
     "name": "stdout",
     "output_type": "stream",
     "text": [
      "545572.0321578257\n"
     ]
    },
    {
     "name": "stderr",
     "output_type": "stream",
     "text": [
      "100%|██████████| 1874/1874 [01:22<00:00, 22.84it/s]"
     ]
    },
    {
     "name": "stdout",
     "output_type": "stream",
     "text": [
      "17254 \n",
      " 2054 \n",
      " 520.0 \n",
      " Epoch: 0, Loss: 0.12457895423548721, Train Dice: 0.657124568723548695, Valid Dice: 0.1521546621458879\n"
     ]
    },
    {
     "name": "stderr",
     "output_type": "stream",
     "text": [
      "\n"
     ]
    }
   ],
   "source": [
    "optimizer = optim.Adam(resnet18.parameters(), lr=1e-5)\n",
    "loss_function = nn.CrossEntropyLoss()\n",
    "losses = train_model(dataloader, optimizer, loss_function, resnet18, val_dataloader)"
   ]
  },
  {
   "cell_type": "code",
   "execution_count": 124,
   "metadata": {},
   "outputs": [
    {
     "data": {
      "text/plain": [
       "Text(0, 0.5, 'Training Loss')"
      ]
     },
     "execution_count": 124,
     "metadata": {},
     "output_type": "execute_result"
    },
    {
     "data": {
      "image/png": "[encoded data removed]",
      "text/plain": [
       "<Figure size 432x288 with 1 Axes>"
      ]
     },
     "metadata": {},
     "output_type": "display_data"
    }
   ],
   "source": [
    "plt.plot(np.arange(200,10800,200), losses)\n",
    "plt.xlabel('Number of Batches')\n",
    "plt.ylabel('Training Loss')"
   ]
  },
  {
   "cell_type": "code",
   "execution_count": 6,
   "metadata": {},
   "outputs": [
    {
     "name": "stdout",
     "output_type": "stream",
     "text": [
      "176164 \n",
      "23272 \n",
      "150085.0\n"
     ]
    },
    {
     "data": {
      "text/plain": [
       "0.14596618609999715"
      ]
     },
     "execution_count": 6,
     "metadata": {},
     "output_type": "execute_result"
    }
   ],
   "source": [
    "test_model(test_dataloader, resnet18)"
   ]
  }
 ],
 "metadata": {
  "kernelspec": {
   "display_name": "conda_python3",
   "language": "python",
   "name": "conda_python3"
  },
  "language_info": {
   "codemirror_mode": {
    "name": "ipython",
    "version": 3
   },
   "file_extension": ".py",
   "mimetype": "text/x-python",
   "name": "python",
   "nbconvert_exporter": "python",
   "pygments_lexer": "ipython3",
   "version": "3.6.5"
  }
 },
 "nbformat": 4,
 "nbformat_minor": 4
}

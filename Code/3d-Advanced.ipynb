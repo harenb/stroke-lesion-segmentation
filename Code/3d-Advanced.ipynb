{
 "cells": [
  {
   "cell_type": "code",
   "execution_count": 1,
   "metadata": {},
   "outputs": [],
   "source": [
    "import sagemaker\n",
    "\n",
    "sagemaker_session = sagemaker.Session()\n",
    "\n",
    "bucket = sagemaker_session.default_bucket()\n",
    "prefix = 'sagemaker/522'\n",
    "\n",
    "role = sagemaker.get_execution_role()"
   ]
  },
  {
   "cell_type": "code",
   "execution_count": 2,
   "metadata": {},
   "outputs": [
    {
     "name": "stdout",
     "output_type": "stream",
     "text": [
      "Requirement already satisfied: nilearn in /home/ec2-user/anaconda3/envs/python3/lib/python3.6/site-packages (0.6.2)\n",
      "Requirement already satisfied: numpy>=1.11 in /home/ec2-user/anaconda3/envs/python3/lib/python3.6/site-packages (from nilearn) (1.14.3)\n",
      "Requirement already satisfied: joblib>=0.11 in /home/ec2-user/anaconda3/envs/python3/lib/python3.6/site-packages (from nilearn) (0.14.1)\n",
      "Requirement already satisfied: sklearn in /home/ec2-user/anaconda3/envs/python3/lib/python3.6/site-packages (from nilearn) (0.0)\n",
      "Requirement already satisfied: nibabel>=2.0.2 in /home/ec2-user/anaconda3/envs/python3/lib/python3.6/site-packages (from nilearn) (3.1.0)\n",
      "Requirement already satisfied: scikit-learn>=0.19 in /home/ec2-user/anaconda3/envs/python3/lib/python3.6/site-packages (from nilearn) (0.20.3)\n",
      "Requirement already satisfied: scipy>=0.19 in /home/ec2-user/anaconda3/envs/python3/lib/python3.6/site-packages (from nilearn) (1.1.0)\n",
      "Requirement already satisfied: packaging>=14.3 in /home/ec2-user/anaconda3/envs/python3/lib/python3.6/site-packages (from nibabel>=2.0.2->nilearn) (20.1)\n",
      "Requirement already satisfied: pyparsing>=2.0.2 in /home/ec2-user/anaconda3/envs/python3/lib/python3.6/site-packages (from packaging>=14.3->nibabel>=2.0.2->nilearn) (2.2.0)\n",
      "Requirement already satisfied: six in /home/ec2-user/anaconda3/envs/python3/lib/python3.6/site-packages (from packaging>=14.3->nibabel>=2.0.2->nilearn) (1.11.0)\n",
      "\u001b[33mYou are using pip version 10.0.1, however version 20.1 is available.\n",
      "You should consider upgrading via the 'pip install --upgrade pip' command.\u001b[0m\n",
      "Collecting torch\n",
      "\u001b[?25l  Downloading https://files.pythonhosted.org/packages/13/70/54e9fb010fe1547bc4774716f11ececb81ae5b306c05f090f4461ee13205/torch-1.5.0-cp36-cp36m-manylinux1_x86_64.whl (752.0MB)\n",
      "\u001b[K    100% |████████████████████████████████| 752.0MB 60kB/s  eta 0:00:01    18% |██████                          | 141.6MB 54.5MB/s eta 0:00:12    40% |█████████████                   | 305.5MB 67.1MB/s eta 0:00:07    95% |██████████████████████████████▍ | 715.0MB 63.2MB/s eta 0:00:01    99% |███████████████████████████████▉| 749.0MB 61.0MB/s eta 0:00:01\n",
      "\u001b[?25hRequirement already satisfied (use --upgrade to upgrade): torch from https://files.pythonhosted.org/packages/13/70/54e9fb010fe1547bc4774716f11ececb81ae5b306c05f090f4461ee13205/torch-1.5.0-cp36-cp36m-manylinux1_x86_64.whl#sha256=dfaac4c5d27ac80705956743c34fb1ab5fb37e1646a6c8e45f05f7e739f6ea7c in /home/ec2-user/anaconda3/envs/python3/lib/python3.6/site-packages\n",
      "Requirement already satisfied: numpy in /home/ec2-user/anaconda3/envs/python3/lib/python3.6/site-packages (from torch) (1.14.3)\n",
      "Requirement already satisfied: future in /home/ec2-user/anaconda3/envs/python3/lib/python3.6/site-packages (from torch) (0.18.2)\n",
      "\u001b[33mYou are using pip version 10.0.1, however version 20.1 is available.\n",
      "You should consider upgrading via the 'pip install --upgrade pip' command.\u001b[0m\n",
      "Requirement already satisfied: torchvision in /home/ec2-user/anaconda3/envs/python3/lib/python3.6/site-packages (0.6.0)\n",
      "Requirement already satisfied: numpy in /home/ec2-user/anaconda3/envs/python3/lib/python3.6/site-packages (from torchvision) (1.14.3)\n",
      "Requirement already satisfied: pillow>=4.1.1 in /home/ec2-user/anaconda3/envs/python3/lib/python3.6/site-packages (from torchvision) (5.1.0)\n",
      "Requirement already satisfied: torch==1.5.0 in /home/ec2-user/anaconda3/envs/python3/lib/python3.6/site-packages (from torchvision) (1.5.0)\n",
      "Requirement already satisfied: future in /home/ec2-user/anaconda3/envs/python3/lib/python3.6/site-packages (from torch==1.5.0->torchvision) (0.18.2)\n",
      "\u001b[33mYou are using pip version 10.0.1, however version 20.1 is available.\n",
      "You should consider upgrading via the 'pip install --upgrade pip' command.\u001b[0m\n",
      "Collecting tqdm\n",
      "  Using cached https://files.pythonhosted.org/packages/c9/40/058b12e8ba10e35f89c9b1fdfc2d4c7f8c05947df2d5eb3c7b258019fda0/tqdm-4.46.0-py2.py3-none-any.whl\n",
      "Requirement already satisfied (use --upgrade to upgrade): tqdm from https://files.pythonhosted.org/packages/c9/40/058b12e8ba10e35f89c9b1fdfc2d4c7f8c05947df2d5eb3c7b258019fda0/tqdm-4.46.0-py2.py3-none-any.whl#sha256=acdafb20f51637ca3954150d0405ff1a7edde0ff19e38fb99a80a66210d2a28f in /home/ec2-user/anaconda3/envs/python3/lib/python3.6/site-packages\n",
      "\u001b[33mYou are using pip version 10.0.1, however version 20.1 is available.\n",
      "You should consider upgrading via the 'pip install --upgrade pip' command.\u001b[0m\n"
     ]
    }
   ],
   "source": [
    "!pip install nilearn\n",
    "!pip install torch\n",
    "!pip install torchvision\n",
    "!pip install tqdm"
   ]
  },
  {
   "cell_type": "code",
   "execution_count": 3,
   "metadata": {},
   "outputs": [],
   "source": [
    "import numpy as np\n",
    "import tqdm\n",
    "import os\n",
    "import nibabel as nib\n",
    "import pandas as pd\n",
    "import nilearn\n",
    "import os\n",
    "import datetime\n",
    "import torch\n",
    "import random\n",
    "from skimage import exposure\n",
    "from matplotlib import pyplot as plt\n",
    "device = ('cuda:0' if torch.cuda.is_available() else 'cpu')"
   ]
  },
  {
   "cell_type": "code",
   "execution_count": 4,
   "metadata": {},
   "outputs": [],
   "source": [
    "# !unzip native_2.zip\n",
    "# !unzip native_1.zip"
   ]
  },
  {
   "cell_type": "code",
   "execution_count": 5,
   "metadata": {},
   "outputs": [],
   "source": [
    "nib_images = []\n",
    "nib_lesions = []"
   ]
  },
  {
   "cell_type": "code",
   "execution_count": 6,
   "metadata": {},
   "outputs": [],
   "source": [
    "for subdir in os.listdir('native_1'):\n",
    "    if subdir != '.DS_Store':\n",
    "        look = 'native_1' + '/' + subdir\n",
    "        for subsubdir in os.listdir(look):\n",
    "            if subsubdir != '.DS_Store':\n",
    "                sublook = look + '/' + subsubdir\n",
    "                nib_images.append(nib.load(sublook + '/' + subsubdir +'.nii.gz'))\n",
    "                nib_lesions.append(nib.load(sublook + '/' + subsubdir + '_LesionSmooth.nii.gz'))"
   ]
  },
  {
   "cell_type": "code",
   "execution_count": 7,
   "metadata": {},
   "outputs": [],
   "source": [
    "for subdir in os.listdir('native_2'):\n",
    "    if subdir != '.DS_Store':\n",
    "        look = 'native_2' + '/' + subdir\n",
    "        for subsubdir in os.listdir(look):\n",
    "            if subsubdir != '.DS_Store':\n",
    "                sublook = look + '/' + subsubdir\n",
    "                nib_images.append(nib.load(sublook + '/' + subsubdir +'.nii.gz'))\n",
    "                nib_lesions.append(nib.load(sublook + '/' + subsubdir + '_LesionSmooth.nii.gz'))"
   ]
  },
  {
   "cell_type": "code",
   "execution_count": 9,
   "metadata": {},
   "outputs": [],
   "source": [
    "d = [48, 56, 62, 64]"
   ]
  },
  {
   "cell_type": "code",
   "execution_count": 12,
   "metadata": {},
   "outputs": [],
   "source": [
    "metadata = pd.read_csv('metadata.csv')"
   ]
  },
  {
   "cell_type": "code",
   "execution_count": 19,
   "metadata": {},
   "outputs": [],
   "source": [
    "def get_3d_features_train(brain, lesion):\n",
    "    s0, s1, s2 = brain.shape\n",
    "    ran = 0.01\n",
    "    features = []\n",
    "    labels = []\n",
    "    for k in range(s2 - 100):\n",
    "        for i in range(s0 - 100):\n",
    "            for j in range(s1 - 100):\n",
    "                if lesion[i+50, j+50, k+50] != 0 or random.random() < ran:\n",
    "                    indices = list(np.arange(j+38,j+63)) + list(np.arange(s1-1-(j+63),s1-1-(j+38)))\n",
    "                    features.append(brain[i+38:i+63, indices, k+38:k+63])\n",
    "                    labels.append(lesion[i+50, j+50, k+50])\n",
    "    return features, labels"
   ]
  },
  {
   "cell_type": "code",
   "execution_count": 77,
   "metadata": {},
   "outputs": [],
   "source": [
    "def get_3d_features_test(brain, lesion, val):\n",
    "    s0, s1, s2 = brain.shape\n",
    "    ran = 0.0001\n",
    "    ran2 = 0.2\n",
    "    features = []\n",
    "    labels = []\n",
    "    for k in range(s2 - 100):\n",
    "        for i in range(s0 - 100):\n",
    "            for j in range(s1 - 100):\n",
    "                l = lesion[i+50, j+50, k+50]\n",
    "                if (random.random() < ran and l==0) or (random.random() < ran2 and l==1):\n",
    "                    indices = list(np.arange(j+38,j+63)) + list(np.arange(s1-1-(j+63),s1-1-(j+38)))\n",
    "                    features.append(brain[i+38:i+63, indices, k+38:k+63])\n",
    "                    labels.append(lesion[i+50, j+50, k+50])\n",
    "    return features, labels"
   ]
  },
  {
   "cell_type": "code",
   "execution_count": 17,
   "metadata": {},
   "outputs": [
    {
     "name": "stderr",
     "output_type": "stream",
     "text": [
      "100%|██████████| 100/100 [07:59<00:00,  4.79s/it]\n"
     ]
    }
   ],
   "source": [
    "brain_data = []\n",
    "lesion_data = []\n",
    "\n",
    "for i in tqdm.tqdm(range(100)): \n",
    "    if i not in d and i not in [36,37]: # where brain sizes and lesion sizes are different\n",
    "        img, lesion = nib_images[i], nib_lesions[i]\n",
    "        # normalize\n",
    "        brain = img.get_fdata()/255\n",
    "        lesion = lesion.get_fdata()/255\n",
    "        #reshape for consistency\n",
    "        if i < 31:\n",
    "          brain = np.rot90(brain,1,axes=(0,2)).copy()\n",
    "          lesion = np.rot90(lesion,1,axes=(0,2)).copy()\n",
    "        elif i > 85:\n",
    "          brain = np.swapaxes(brain,1,2).copy()\n",
    "          brain = np.rot90(brain,1,axes=(0,2)).copy()\n",
    "          lesion = np.swapaxes(lesion,1,2).copy()\n",
    "          lesion = np.rot90(lesion,1,axes=(0,2)).copy()\n",
    "        #histogram equalize\n",
    "        brain = exposure.equalize_hist(brain)\n",
    "        if brain.shape[0:3] < (50, 50, 50):\n",
    "            continue\n",
    "        features, labels = get_3d_features_train(brain, lesion)\n",
    "        brain_data.extend(features)\n",
    "        lesion_data.extend(labels)\n"
   ]
  },
  {
   "cell_type": "code",
   "execution_count": 18,
   "metadata": {},
   "outputs": [
    {
     "data": {
      "text/plain": [
       "<matplotlib.image.AxesImage at 0x7f91721fc630>"
      ]
     },
     "execution_count": 18,
     "metadata": {},
     "output_type": "execute_result"
    },
    {
     "data": {
      "image/png": "[encoded data removed]",
      "text/plain": [
       "<Figure size 432x288 with 1 Axes>"
      ]
     },
     "metadata": {},
     "output_type": "display_data"
    }
   ],
   "source": [
    "img1 = nib_images[227].get_fdata()/255\n",
    "plt.imshow(img1[:,100,:], cmap='gray')"
   ]
  },
  {
   "cell_type": "code",
   "execution_count": 78,
   "metadata": {},
   "outputs": [
    {
     "name": "stderr",
     "output_type": "stream",
     "text": [
      "100%|██████████| 25/25 [01:08<00:00,  2.74s/it]\n"
     ]
    }
   ],
   "source": [
    "brain_data_valid = []\n",
    "lesion_data_valid = []\n",
    "indexes = []\n",
    "\n",
    "for i in tqdm.tqdm(range(100,125)): \n",
    "    if i not in d: # where brain sizes and lesion sizes are different\n",
    "#         print(i)\n",
    "        # img, lesion = preprocess(nib_images[0], nib_lesions[0])\n",
    "        img, lesion = nib_images[i], nib_lesions[i]\n",
    "        # normalize\n",
    "        brain = img.get_fdata()/255\n",
    "        lesion = lesion.get_fdata()/255\n",
    "        #reshape for consistency\n",
    "        if i < 31:\n",
    "          brain = np.rot90(brain,1,axes=(0,2)).copy()\n",
    "          lesion = np.rot90(lesion,1,axes=(0,2)).copy()\n",
    "        elif i > 85:\n",
    "          brain = np.swapaxes(brain,1,2).copy()\n",
    "          brain = np.rot90(brain,1,axes=(0,2)).copy()\n",
    "          lesion = np.swapaxes(lesion,1,2).copy()\n",
    "          lesion = np.rot90(lesion,1,axes=(0,2)).copy()\n",
    "        #histogram equalize\n",
    "        brain = exposure.equalize_hist(brain)\n",
    "        # padding\n",
    "        # padded_brain, padded_lesion = padding(brain, lesion)\n",
    "\n",
    "        # get features\n",
    "        if brain.shape[0:3] < (50, 50, 50):\n",
    "            continue\n",
    "        features, labels = get_3d_features_test(brain, lesion, True)\n",
    "        length = len(features)\n",
    "        indexes.extend([i]*length)\n",
    "        \n",
    "        brain_data_valid.extend(features)\n",
    "        lesion_data_valid.extend(labels)"
   ]
  },
  {
   "cell_type": "code",
   "execution_count": 137,
   "metadata": {},
   "outputs": [
    {
     "name": "stderr",
     "output_type": "stream",
     "text": [
      "100%|██████████| 25/25 [01:25<00:00,  3.40s/it]\n"
     ]
    }
   ],
   "source": [
    "brain_data_test = []\n",
    "lesion_data_test = []\n",
    "\n",
    "for i in tqdm.tqdm(range(125,150)): \n",
    "    if i not in d: # where brain sizes and lesion sizes are different\n",
    "        # img, lesion = preprocess(nib_images[0], nib_lesions[0])\n",
    "        img, lesion = nib_images[i], nib_lesions[i]\n",
    "        # normalize\n",
    "        brain = img.get_fdata()/255\n",
    "        lesion = lesion.get_fdata()/255\n",
    "        #reshape for consistency\n",
    "        if i < 31:\n",
    "          brain = np.rot90(brain,1,axes=(0,2)).copy()\n",
    "          lesion = np.rot90(lesion,1,axes=(0,2)).copy()\n",
    "        elif i > 85:\n",
    "          brain = np.swapaxes(brain,1,2).copy()\n",
    "          brain = np.rot90(brain,1,axes=(0,2)).copy()\n",
    "          lesion = np.swapaxes(lesion,1,2).copy()\n",
    "          lesion = np.rot90(lesion,1,axes=(0,2)).copy()\n",
    "        #histogram equalize\n",
    "        brain = exposure.equalize_hist(brain)\n",
    "\n",
    "        # get features\n",
    "        if brain.shape[0:3] < (50, 50, 50):\n",
    "            continue\n",
    "        features, labels = get_3d_features_test(brain, lesion, False)\n",
    "        brain_data_test.extend(features)\n",
    "        lesion_data_test.extend(labels)"
   ]
  },
  {
   "cell_type": "code",
   "execution_count": 23,
   "metadata": {},
   "outputs": [],
   "source": [
    "import torch.nn as nn\n",
    "from torch import optim\n",
    "from torch.utils.data import Dataset, DataLoader\n",
    "from torchvision import transforms, utils, models"
   ]
  },
  {
   "cell_type": "code",
   "execution_count": 29,
   "metadata": {},
   "outputs": [],
   "source": [
    "class BrainsDataset3D(Dataset):\n",
    "    def __init__(self, brains, lesions, transform=None):\n",
    "        self.brains = brains\n",
    "        self.lesions = lesions\n",
    "        self.transform = transform\n",
    "\n",
    "    def __len__(self):\n",
    "        return len(self.brains)\n",
    "\n",
    "    def __getitem__(self, idx):\n",
    "        brains = self.brains[idx].reshape(1, 25, 50, 25)\n",
    "        sample = {'brain': brains, 'lesion': self.lesions[idx]}\n",
    "        if self.transform:\n",
    "            sample['brain'] = self.transform(sample['brain'][0]).unsqueeze(0)\n",
    "        return sample"
   ]
  },
  {
   "cell_type": "code",
   "execution_count": 82,
   "metadata": {},
   "outputs": [],
   "source": [
    "brains_dataset = BrainsDataset3D(brain_data, lesion_data, transform=transforms.ToTensor())\n",
    "brains_valid = BrainsDataset3D(brain_data_valid, lesion_data_valid, transform=transforms.ToTensor())\n",
    "brains_test = BrainsDataset3D(brain_data_test, lesion_data_test, transform=transforms.ToTensor())\n",
    "dataloader = DataLoader(brains_dataset, batch_size=64, shuffle=True)\n",
    "val_dataloader = DataLoader(brains_valid, batch_size = 256, shuffle=False)\n",
    "test_dataloader = DataLoader(brains_test, batch_size = 2000, shuffle=False)"
   ]
  },
  {
   "cell_type": "code",
   "execution_count": 84,
   "metadata": {},
   "outputs": [],
   "source": [
    "def dice(true, pred):\n",
    "  true = np.array(true)\n",
    "  pred = np.array(pred)\n",
    "  intersection = np.sum(true*pred)\n",
    "  union = np.sum(true == 1) + np.sum(pred == 1)\n",
    "  print(intersection)\n",
    "  return 2*intersection/union"
   ]
  },
  {
   "cell_type": "code",
   "execution_count": 36,
   "metadata": {},
   "outputs": [],
   "source": [
    "class CNN(nn.Module):\n",
    "    def __init__(self):\n",
    "        super(CNN,self).__init__()\n",
    "        self.conv = nn.Sequential(nn.Conv3d(1,8,3,1,1),\n",
    "                                 nn.MaxPool3d(2),\n",
    "                                 nn.ReLU(),\n",
    "                                 nn.Conv3d(8,16,3,1,1),\n",
    "                                 nn.MaxPool3d(2),\n",
    "                                 nn.ReLU(),\n",
    "                                 nn.Conv3d(16,32,3,1,1),\n",
    "                                 nn.MaxPool3d(2),\n",
    "                                 nn.ReLU(),\n",
    "                                 nn.Conv3d(32,16,3,1,1),\n",
    "                                 nn.ReLU(),\n",
    "                                 nn.Conv3d(16,8,3,1,1),\n",
    "                                 nn.ReLU())\n",
    "        self.lin = nn.Sequential(nn.Linear(432,64),\n",
    "                                nn.ReLU(),\n",
    "                                nn.Linear(64,2),\n",
    "                                nn.Softmax(0))\n",
    "        \n",
    "    def forward(self,brain):\n",
    "        out = self.conv(brain)\n",
    "        out = out.view(out.shape[0],-1)\n",
    "        out = self.lin(out)\n",
    "        \n",
    "        return out"
   ]
  },
  {
   "cell_type": "code",
   "execution_count": 62,
   "metadata": {},
   "outputs": [],
   "source": [
    "def train_model(train_dataloader, optimizer, loss, net,test_dataloader):\n",
    "  # TODO: Insert your code here\n",
    "  net = net.to(device)\n",
    "  true = np.array([])\n",
    "  output_list = np.array([])\n",
    "  interval_losses = []\n",
    "  losses = []\n",
    "  for epoch in range(1):\n",
    "    interval_loss = 0\n",
    "    print(datetime.datetime.now())\n",
    "    total_loss = 0\n",
    "    total = 0\n",
    "    correct = 0\n",
    "    epoch_iterator = tqdm.tqdm(train_dataloader)\n",
    "    net.train()\n",
    "    \n",
    "    for num, data in enumerate(epoch_iterator):\n",
    "      inputs, labels = data['brain'], data['lesion']\n",
    "      inputs, labels = inputs.float().to(device), labels.float().to(device)\n",
    "\n",
    "      optimizer.zero_grad()\n",
    "      outputs = net(inputs)\n",
    "      pred = torch.max(outputs, 1)[1]\n",
    "      output_list = np.append(output_list, pred.cpu().numpy())\n",
    "      true = np.append(true, labels.cpu().numpy())\n",
    "\n",
    "      loss_value = loss(outputs, labels.long())*10\n",
    "      if num%100 == 0 and num!= 0:\n",
    "        interval_losses.append(interval_loss/100)\n",
    "        interval_loss = 0\n",
    "\n",
    "      loss_value.backward()\n",
    "      optimizer.step()\n",
    "      \n",
    "      interval_loss += loss_value.item()\n",
    "      total_loss += loss_value.item()\n",
    "    \n",
    "      total += len(labels)\n",
    "    \n",
    "    losses.append(total_loss/total)\n",
    "    print(f\"Epoch: {epoch}, Loss: {total_loss/total}, Train Dice: {dice(output_list,true)}, Valid Dice: {test_model(test_dataloader, net)[0]}\")\n",
    "    print()\n",
    "    \n",
    "  return losses,output_list,true, interval_losses"
   ]
  },
  {
   "cell_type": "code",
   "execution_count": 76,
   "metadata": {},
   "outputs": [],
   "source": [
    "def test_model(test_dataloader, net):\n",
    "  # TODO: Insert your code here\n",
    "  correct = 0\n",
    "  total = 0\n",
    "  output_list = np.array([])\n",
    "  true = np.array([])\n",
    "  with torch.no_grad():\n",
    "    for data in tqdm.tqdm(test_dataloader):\n",
    "      inputs, labels = data['brain'], data['lesion']\n",
    "      inputs, labels = inputs.float().to(device), labels.float().to(device)\n",
    "      \n",
    "      outputs = net(inputs)\n",
    "      pred = torch.max(outputs, 1)[1]\n",
    "      output_list = np.append(output_list, pred.cpu().numpy())\n",
    "      \n",
    "      true = np.append(true, labels.cpu().numpy())\n",
    "      total += 1\n",
    "      \n",
    "  print(np.count_nonzero(output_list))\n",
    "  print(np.count_nonzero(true))\n",
    "  return dice(output_list,true), output_list, true\n"
   ]
  },
  {
   "cell_type": "code",
   "execution_count": 139,
   "metadata": {
    "scrolled": false
   },
   "outputs": [
    {
     "name": "stderr",
     "output_type": "stream",
     "text": [
      "  0%|          | 0/24619 [00:00<?, ?it/s]"
     ]
    },
    {
     "name": "stdout",
     "output_type": "stream",
     "text": [
      "2020-05-07 22:06:40.579392\n"
     ]
    },
    {
     "name": "stderr",
     "output_type": "stream",
     "text": [
      "100%|██████████| 24619/24619 [23:41<00:00, 17.32it/s]   \n",
      "  0%|          | 0/147 [00:00<?, ?it/s]"
     ]
    },
    {
     "name": "stdout",
     "output_type": "stream",
     "text": [
      "491404.00784361083\n"
     ]
    },
    {
     "name": "stderr",
     "output_type": "stream",
     "text": [
      "100%|██████████| 147/147 [11:44<00:00,  4.79s/it]  "
     ]
    },
    {
     "name": "stdout",
     "output_type": "stream",
     "text": [
      "13360 \n",
      " 7537 \n",
      " 3840.0 \n",
      " Epoch: 0, Loss: 0.09652629042730622, Train Dice: 0.7077220979794091, Valid Dice: 0.46751686845001674\n"
     ]
    },
    {
     "name": "stderr",
     "output_type": "stream",
     "text": [
      "\n"
     ]
    }
   ],
   "source": [
    "cnn = CNN()\n",
    "optimizer = optim.Adam(cnn.parameters(),lr=0.00001)\n",
    "loss_function = nn.CrossEntropyLoss()\n",
    "cnn = torch.nn.DataParallel(cnn)\n",
    "\n",
    "losses,pred,true, int_losses = train_model(dataloader, optimizer, loss_function, cnn, val_dataloader)"
   ]
  },
  {
   "cell_type": "code",
   "execution_count": 131,
   "metadata": {},
   "outputs": [
    {
     "data": {
      "text/plain": [
       "Text(0, 0.5, 'Loss')"
      ]
     },
     "execution_count": 131,
     "metadata": {},
     "output_type": "execute_result"
    },
    {
     "data": {
      "image/png": "[encoded data removed]",
      "text/plain": [
       "<Figure size 432x288 with 1 Axes>"
      ]
     },
     "metadata": {},
     "output_type": "display_data"
    }
   ],
   "source": [
    "plt.plot(np.arange(100,24620,100), int_losses)\n",
    "plt.xlabel('Batch')\n",
    "plt.ylabel('Loss')"
   ]
  },
  {
   "cell_type": "code",
   "execution_count": 135,
   "metadata": {},
   "outputs": [
    {
     "data": {
      "image/png": "[encoded data removed]",
      "text/plain": [
       "<Figure size 432x288 with 1 Axes>"
      ]
     },
     "metadata": {},
     "output_type": "display_data"
    }
   ],
   "source": [
    "plt.plot(range(1,6), train_dices, color='red')\n",
    "plt.plot(range(1,6), valid_dices, color='blue')\n",
    "plt.legend(['Train', 'Valid'])\n",
    "plt.xlabel('Epoch')\n",
    "plt.ylabel('Dice')\n",
    "plt.show()"
   ]
  },
  {
   "cell_type": "code",
   "execution_count": 85,
   "metadata": {},
   "outputs": [
    {
     "name": "stderr",
     "output_type": "stream",
     "text": [
      "100%|██████████| 90/90 [00:06<00:00, 14.66it/s]"
     ]
    },
    {
     "name": "stdout",
     "output_type": "stream",
     "text": [
      "8853\n",
      "7946\n",
      "4191.0\n"
     ]
    },
    {
     "name": "stderr",
     "output_type": "stream",
     "text": [
      "\n"
     ]
    }
   ],
   "source": [
    "dice_score, pred, true = test_model(test_dataloader,cnn)"
   ]
  },
  {
   "cell_type": "code",
   "execution_count": 86,
   "metadata": {},
   "outputs": [
    {
     "name": "stdout",
     "output_type": "stream",
     "text": [
      "Final Test Result: 0.49895827132567416\n"
     ]
    }
   ],
   "source": [
    "print(f\"Final Test Result: {dice_score}\")"
   ]
  },
  {
   "cell_type": "code",
   "execution_count": 99,
   "metadata": {},
   "outputs": [],
   "source": [
    "combined = np.array(list(zip(indices,pred,true)))"
   ]
  },
  {
   "cell_type": "code",
   "execution_count": 100,
   "metadata": {},
   "outputs": [],
   "source": [
    "indices = np.array(indexes)\n",
    "side_analysis = pd.DataFrame(combined, columns=['indices','pred','true'])"
   ]
  },
  {
   "cell_type": "code",
   "execution_count": 107,
   "metadata": {},
   "outputs": [],
   "source": [
    "side_analysis['Side'] = side_analysis['indices'].apply(lambda x: metadata.iloc[int(x)]['Primary Stroke Location Hemisphere'])"
   ]
  },
  {
   "cell_type": "code",
   "execution_count": 109,
   "metadata": {},
   "outputs": [],
   "source": [
    "side_analysis['Correct'] = side_analysis.pred == side_analysis.true"
   ]
  },
  {
   "cell_type": "code",
   "execution_count": 125,
   "metadata": {},
   "outputs": [
    {
     "data": {
      "text/plain": [
       "<matplotlib.axes._subplots.AxesSubplot at 0x7f916af560b8>"
      ]
     },
     "execution_count": 125,
     "metadata": {},
     "output_type": "execute_result"
    },
    {
     "data": {
      "image/png": "[encoded data removed]",
      "text/plain": [
       "<Figure size 432x288 with 1 Axes>"
      ]
     },
     "metadata": {},
     "output_type": "display_data"
    }
   ],
   "source": [
    "side_analysis[['Side','Correct']].groupby(['Side']).count().plot(kind='bar')"
   ]
  }
 ],
 "metadata": {
  "kernelspec": {
   "display_name": "conda_python3",
   "language": "python",
   "name": "conda_python3"
  },
  "language_info": {
   "codemirror_mode": {
    "name": "ipython",
    "version": 3
   },
   "file_extension": ".py",
   "mimetype": "text/x-python",
   "name": "python",
   "nbconvert_exporter": "python",
   "pygments_lexer": "ipython3",
   "version": "3.6.5"
  }
 },
 "nbformat": 4,
 "nbformat_minor": 4
}
